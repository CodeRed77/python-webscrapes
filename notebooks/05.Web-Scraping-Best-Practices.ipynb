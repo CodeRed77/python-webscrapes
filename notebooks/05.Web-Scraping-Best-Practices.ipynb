{
 "cells": [
  {
   "cell_type": "markdown",
   "metadata": {
    "slideshow": {
     "slide_type": "slide"
    }
   },
   "source": [
    "# Best Practices and Guidelines"
   ]
  },
  {
   "cell_type": "markdown",
   "metadata": {
    "slideshow": {
     "slide_type": "slide"
    }
   },
   "source": [
    "## API Access\n",
    "\n",
    "When WebPages are updated with a new UI or Layout, our scrappers will fail.  So, check if the Website publishes an API.  This not only protects our code from breaking on simple layout changes, but also is much more friendlier to write and don't have to learn all the HTML nestings to pull our data."
   ]
  },
  {
   "cell_type": "markdown",
   "metadata": {},
   "source": [
    "## Data Dumps\n",
    "\n",
    "Many companies pubish data dumps regularly (Reddit, Wikipedia, ..)  See if what you need is already cleaned and uploaded.  You could use that for your project and avoid the scrapping woes."
   ]
  },
  {
   "cell_type": "markdown",
   "metadata": {
    "collapsed": true
   },
   "source": [
    "## Respect the Robots.txt\n",
    "\n",
    "`Robots.txt` will specify the rules for Web Crawlers and Scrappers.  Most websites will have it.  Check it first.  Checkout Wikipedia's for example (https://en.wikipedia.org/robots.txt)"
   ]
  },
  {
   "cell_type": "markdown",
   "metadata": {},
   "source": [
    "## Scape only what you need\n",
    "\n",
    "Scape just enough information for your side project"
   ]
  },
  {
   "cell_type": "markdown",
   "metadata": {
    "collapsed": true
   },
   "source": [
    "## Do not hit the servers too frequently\n",
    "\n",
    "Add Delays to your webscrapping code even if the `Robots.txt` doesn't explicitly specify them."
   ]
  },
  {
   "cell_type": "markdown",
   "metadata": {},
   "source": [
    "## Don't share scrapped data\n",
    "\n",
    "If it's not your data, don't share it publically on github or otherwise."
   ]
  },
  {
   "cell_type": "markdown",
   "metadata": {},
   "source": [
    "## In general, be considerate\n",
    "\n",
    "* Choose an off-peak time to scrape\n",
    "* Build in wait times between requests time.sleep(seconds)\n",
    "* Save as you go. Don't repeatedly hit the same page"
   ]
  },
  {
   "cell_type": "markdown",
   "metadata": {},
   "source": [
    "## Using classes generally more reliable than using style / font"
   ]
  },
  {
   "cell_type": "markdown",
   "metadata": {},
   "source": [
    "## Using header and params with your GET requests"
   ]
  },
  {
   "cell_type": "code",
   "execution_count": 6,
   "metadata": {
    "collapsed": true
   },
   "outputs": [],
   "source": [
    "# sometimes things work more smoothly if we change the User-Agent in the request headers\n",
    "headers = {'User-Agent':'Mozilla/5.0 (Macintosh; Intel Mac OS X 10_8_5)'}"
   ]
  },
  {
   "cell_type": "code",
   "execution_count": 3,
   "metadata": {
    "collapsed": true
   },
   "outputs": [
    {
     "data": {
      "text/plain": [
       "'<!DOCTYPE html PUBLIC \"-//W3C//DTD HTML 4.01 Transitional//EN\" \"http://www.w3.org/TR/html4/loose.dtd\">\\n<html lang=\"en\">\\n<head>\\n<meta http-equiv=\"Content-type\" content=\"text/html;charset=iso-8859-1\">\\n<title>The Sound of Music (1965) - Box Office Mojo</title>\\n\\n<style type=\"text/css\">\\ntable.chart-wide { width: 100%; }\\n</style>\\n<META name=\"keywords\" content=\"the sound of music, movie, film, box office, result, records, charts, revenue, opening weekend, gross, worldwide, overseas, foreign, news, reviews, articles, stories, story, analysis, revenue, release date, mpaa rating, genre, running time, length, budget, production budget, distributor, studio, fox, theatrical summary, theatrical, box office mojo\">\\n<META name=\"description\" content=\"The Sound of Music summary of box office results, charts and release information and related links.\">\\n\\n<link rel=\"stylesheet\" href=\"/css/mojo.css?1\" type=\"text/css\" media=\"screen\" title=\"no title\" charset=\"utf-8\">\\n<link rel=\"stylesheet\" href=\"/css/mojo.css?1\" type=\"text/css\" media=\"print\" title=\"no title\" charset=\"utf-8\">\\n<script type=\"text/javascript\" src=\"/js/jscharts.js\"></script>\\n</head>\\n<body>\\n<iframe id=\"sis_pixel_sitewide\" width=\"1\" height=\"1\" frameborder=\"0\" marginwidth=\"0\" marginheight=\"0\" style=\"display: none;\"></iframe>\\n<script>\\n    setTimeout(function(){\\n        try{\\n            //sis3.0 pixel\\n            var cacheBust = Math.random() * 10000000000000000,\\n                url_sis3 = \\'http://s.amazon-adsystem.com/iu3?\\',\\n                params_sis3 = [\\n                    \"d=boxofficemojo.com\",\\n                    \"cb=\" + cacheBust\\n                ];\\n\\n            (document.getElementById(\\'sis_pixel_sitewide\\')).src = url_sis3 + params_sis3.join(\\'&\\');\\n        }catch(e){\\n            if (window.ueLogError) { \\n                window.ueLogError(e);\\n            }\\n        }\\n    }, 5);\\n</script>\\n\\n<div id=\"container\">\\n<div>\\n<script type=\"text/javascript\">\\n    var googletag = googletag || {};\\n    googletag.cmd = googletag.cmd || [];\\n\\n    (function() {\\n        var gads = document.createElement(\"script\");\\n        gads.async = true;\\n        gads.type = \"text/javascript\";\\n\\n        var useSSL = \"https:\" == document.location.protocol;\\n        gads.src = (useSSL ? \"https:\" : \"http:\") + \"//www.googletagservices.com/tag/js/gpt.js\";\\n\\n        var node = document.getElementsByTagName(\"script\")[0];\\n        node.parentNode.insertBefore(gads, node);\\n    })();\\n</script>\\n\\n<script type=\"text/javascript\">\\n  var _gaq = _gaq || [];\\n  _gaq.push([\\'_setAccount\\', \\'UA-2831726-1\\']);\\n  _gaq.push([\\'_trackPageview\\']);\\n\\n  (function() {\\n    var ga = document.createElement(\\'script\\'); ga.type = \\'text/javascript\\'; ga.async = true;\\n    ga.src = (\\'https:\\' == document.location.protocol ? \\'https://ssl\\' : \\'http://www\\') + \\'.google-analytics.com/ga.js\\';\\n    (document.getElementsByTagName(\\'head\\')[0] || document.getElementsByTagName(\\'body\\')[0]).appendChild(ga);\\n  })();\\n\\n</script>\\n\\n\\t<div id=\"hp_banner\">\\n\\t<div id=\"top_links\">\\n\\t\\t<div style=\"float: left\"><a href=\"/daily/chart/\">Daily Box Office (Mon.)</a> | <a href=\"/weekend/chart/\">Weekend Box Office (Jun. 30&ndash;Jul. 2)</a> | <a href=\"/movies/?id=despicableme3.htm\">#1 Movie: \\'Despicable Me 3\\'</a> | <a href=\"http://www.imdb.com/showtimes/?ref_=mojo\">Showtimes</a></div>\\n\\t\\t<div style=\"float: right\">Updated 7/4/2017 2:14 P.M. Pacific Time</div>\\n\\t\\t<div style=\"clear:both; height: 0px\"></div>\\n\\t</div>\\n</div>\\n\\t\\t\\n<div id=\"header\">\\n<div id=\"leaderboard\"><script src=\"http://bs.serving-sys.com/Serving/adServer.bs?c=28&cn=display&pli=1073982656&w=728&h=90&ord=1499229736&z=0\"></script>\\n<noscript>\\n<a href=\"http://bs.serving-sys.com/Serving/adServer.bs?cn=brd&pli=1073982656&Page=&Pos=668343950\" target=\"_blank\">\\n<img src=\"http://bs.serving-sys.com/Serving/adServer.bs?c=8&cn=display&pli=1073982656&Page=&Pos=668343950\" border=0 width=728 height=90></a>\\n</noscript>\\n</div>\\n\\t<div id=\"leaderboard\"><script type=\"text/javascript\">\\n    googletag.cmd.push(function() {\\n        googletag.defineSlot(\"/4215/imdb2.bom.movie\", [[728, 90]], \"ad-slot-1\").addService(googletag.pubads().setTargeting(\"p\", \"t\"));\\n        googletag.pubads().enableSingleRequest();\\n        googletag.enableServices();\\n    });\\n    googletag.cmd.push(function() { googletag.display(\"ad-slot-1\"); });\\n</script></div>\\t<div id=\"hp_logo\"><a href=\"/\"><img src=\"/img/misc/bom_logo1.png\" width=\"245\" height=\"56\" alt=\"Box Office Mojo\"></a></div>\\n\\t<div style=\"clear:both; height: 0px\"></div>\\n</div>\\n\\n\\n</div>\\n\\n<div class=\"connect_nav\">\\n    <ul>\\n\\t<li class=\"nl_link\">\\n            <a href=\"http://pro.imdb.com/signup/index.html?rf=mojo_nb_hm&ref_=mojo_nb_hm\" target=\"_blank\">\\n                <img src=\"/images/IMDbPro.png\" alt=\"Get industry info at IMDbPro\" height=\"20\" />\\n            </a>\\n        </li>\\n\\t<li class=\"nl_link\">\\n            <a href=\"http://twitter.com/boxofficemojo\" target=\"_blank\">\\n                <img src=\"/images/glyphicons-social-32-twitter@2x.png\" alt=\"Follow us on Twitter\" height=\"18\" />\\n            </a>\\n        </li>\\n        <li class=\"nl_link\">\\n            <a href=\"http://facebook.com/boxofficemojo\" target=\"_blank\">\\n                <img src=\"/images/glyphicons-social-31-facebook@2x.png\" alt=\"Follow us on Facebook\" height=\"18\" />\\n            </a>\\n        </li>\\n    </ul>\\n</div>\\n\\n<div id=\"main\">\\n<!-- COLUMN 1 of 4 -->\\n\\t<div id=\"leftnav\">\\n<!-- google_ad_section_start(weight=ignore) -->\\n<!-- <table id=\"navleft\" cellspacing=\"0\" cellpadding=\"2\" border=\"0\"> -->\\n<ul id=\"leftnav\">\\n<li class=\"nl_section\">Search Site</li>\\n<li class=\"nl_link\" style=\"padding-left:0px\">\\n\\t<form name=\"searchbox\" method=\"POST\" action=\"/search/q.php\">\\n\\t<input name=\"q\"  type=\"text\" style=\"font-size: 9 pt; font-weight: bold; width: 90px;\"><br>\\n\\t<input type=\"submit\" value=\"Search...\" ></form> \\n</li>\\n<li class=\\'nl_section\\'>Features</li>\\n<li class=\\'nl_link\\'><a href=\"/news/\">News</a></li>\\n<li class=\\'nl_link\\'><a href=\"/schedule/\">Release Sched.</a></li>\\n<li class=\\'nl_link\\'><a href=\"http://www.imdb.com/showtimes?ref_=mojo\">Showtimes<br/><span style=\"margin-left:7px;color: #999999; font-size: 9px;\">at <img src=\"/images/mojo_imdb_sm.png\"/></span></a></li>\\n<li class=\\'nl_section\\'>Box Office</li>\\n<li class=\\'nl_link\\'><a href=\"/daily/\">Daily</a></li>\\n<li class=\\'nl_link\\'><a href=\"/weekend/\">Weekend</a></li>\\n<li class=\\'nl_link\\'><a href=\"/weekly/\">Weekly</a></li>\\n<li class=\\'nl_link\\'><a href=\"/monthly/\">Monthly</a></li>\\n<li class=\\'nl_link\\'><a href=\"/quarterly/\">Quarterly</a></li>\\n<li class=\\'nl_link\\'><a href=\"/seasonal/\">Seasonal</a></li>\\n<li class=\\'nl_link\\'><a href=\"/yearly/\">Yearly</a></li>\\n<li class=\\'nl_link\\'><a href=\"/alltime/\">All Time</a></li>\\n<li class=\\'nl_link\\'><a href=\"/intl/\">International</a></li>\\n<li class=\\'nl_section\\'>Indices</li>\\n<li class=\\'nl_link\\'><a href=\"/studio/\">Studios</a></li>\\n<li class=\\'nl_link\\'><a href=\"/people/\">People</a></li>\\n<li class=\\'nl_link\\'><a href=\"/genres/\">Genres</a></li>\\n<li class=\\'nl_link\\'><a href=\"/franchises/\">Franchises</a></li>\\n<li class=\\'nl_link\\'><a href=\"/showdowns/\">Showdowns</a></li>\\n<li class=\\'nl_link\\'><a href=\"/counts/\">Theater Counts</a></li>\\n</ul>\\n</div>\\n\\t<div id=\"body\">\\n\\n\\t<table border=\"0\" width=\"878px\" cellspacing=\"0\">\\n\\t<tr>\\n\\t<td align=\"right\" style=\"whitespace:nowrap;\">\\n\\t\\n\\n\\t<table border=\"0\" cellspacing=\"0\" cellpadding=\"0\">\\r\\n<tr>\\r\\n<form method=\"POST\" action=\"/adjuster.php\" name=\"adjuster\">\\r\\n<input type=\"hidden\" name=\"returnURL\" value=\"/movies/?id=soundofmusic.htm&amp;adjust_yr=2017\">\\r\\n<td valign=\"center\">\\r\\n  <font face=\"Verdana\" size=\"2\"><a href=\"/about/adjuster.htm\"><b>Adjuster:</b></a></font>\\r\\n  <select size=\"1\" name=\"ticketyr\" style=\"font-family: Verdana; font-size: 10pt\">\\r\\n  <option value=\"0\" >Actuals</option>\\r\\n  <option value=\"1\" >Est. Tckts</option>\\r\\n<script language=\"javascript\">\\r\\n  for(i=2017; i>=1933; i--) {\\r\\n  \\tdocument.write(\\'<option value=\"\\' + i + \\'\"\\');\\r\\n\\tif(i==\\'2017\\') document.write(\\' selected\\');\\r\\n\\tdocument.write(\\'>\\' + i );\\r\\n\\tif(i==\\'2017\\') document.write(\\', $\\' + \\'8.84\\');\\r\\n\\tdocument.write(\\'</option>\\');\\r\\n  }\\r\\n</script>\\r\\n  <option value=\"1929\" >1929</option>\\r\\n  <option value=\"1924\" >1924</option>\\r\\n  <option value=\"1910\" >1910</option>\\r\\n  </select><input type=\"submit\" name=\"Go\" value=\"Go\" style=\"font-size: 10pt; height: 22\">\\r\\n\\r\\n</td></form></tr></table>\\r\\n\\r\\n</td></tr>\\n\\t<!--------------------------Site Body---------------------------------->\\n\\n<tr></td>\\n\\n<table cellspacing=\"0\" cellpadding=\"0\" border=\"0\" width=\"100%\">\\n\\t<tr>\\t<td valign=\"top\">\\n\\t\\t<table border=\"0\" cellpadding=\"0\" cellspacing=\"0\" width=\"100%\" style=\"padding-top: 5px;\"><tr><td valign=\"top\" align=\"center\">\\n\\t\\t<a href=\"/movies/?page=media&id=soundofmusic.htm\"><img src=\"https://images-na.ssl-images-amazon.com/images/M/MV5BODIxNjhkYjEtYzUyMi00YTNjLWE1YjktNjAyY2I2MWNkNmNmL2ltYWdlL2ltYWdlXkEyXkFqcGdeQXVyMTQxNzMzNDI@._V1_UY222_CR0,0,150,222_AL.jpg\" border=\"1\" style=\"border-color: 000000\"></a>\\t</td>\\n\\t<td valign=\"top\" align=\"center\"><br><font face=\"Verdana\" size=\"6\"><b>The Sound of Music</b></font><br><br>\\n\\t<table border=\"0\" cellspacing=\"0\" cellpadding=\"0\"><tr><td>\\n\\t<center><table border=\"0\" border=\"0\" cellspacing=\"1\" cellpadding=\"4\" bgcolor=\"#dcdcdc\" width=\"95%\"><tr bgcolor=\"#ffffff\"><td align=\"center\" colspan=\"2\"><font size=\"4\">Domestic Total Adj. Gross: <b>$1,258,951,900</b></font></td></tr><tr bgcolor=\"#ffffff\"><td valign=\"top\">Distributor: <b><a href=\"/studio/chart/?studio=fox.htm\">Fox</a></b></td><td valign=\"top\">Release Date: <b><nobr>March 2, 1965</nobr></b></td></tr><tr bgcolor=\"#ffffff\"><td valign=\"top\">Genre: <b>Musical</b></td><td valign=\"top\">Runtime: <b>2 hrs. 54 min.</b></td></tr><tr bgcolor=\"#ffffff\"><td valign=\"top\">MPAA Rating: <b>G</b></td><td valign=\"top\">Production Budget: <b>$8.2 million</b></td></tr></table>\\t</td>\\n\\t</tr></table></td>\\n\\t<td align=\"right\"><script type=\"text/javascript\">\\n    googletag.cmd.push(function() {\\n        googletag.defineSlot(\"/4215/imdb2.bom.movie\", [[300, 250]], \"ad-slot-2\").addService(googletag.pubads().setTargeting(\"p\", \"rh\"));\\n        googletag.pubads().enableSingleRequest();\\n        googletag.enableServices();\\n    });\\n    googletag.cmd.push(function() { googletag.display(\"ad-slot-2\"); });\\n</script></td>\\n\\t</tr>\\n</table>\\n\\n\\n<table cellspacing=\"0\" cellpadding=\"0\" border=\"0\" width=\"878px\">\\n\\t<tr><td>\\n\\n<hr color=\"#000000\" size=\"1\"><br />\\n</td></tr>\\n<tr><td>\\n\\n<table border=\"0\" cellspacing=\"0\" cellpadding=\"0\" width=\"100%\">\\n\\t<tr><td valign=\"top\" width=\"434px\">\\n\\t<table border=\"0\" cellpadding=\"0\" cellspacing=\"0\" width=\"100%\"><tr>\\n\\t\\t<td width=\"50%\" valign=\"top\">\\n<div class=\"mp_box\">\\n<div class=\"mp_box_tab\">Total Lifetime Grosses</b> (Unadjusted)</div>\\n<div class=\"mp_box_content\">\\n\\t<table border=\"0\" cellspacing=\"0\" cellpadding=\"0\">\\n\\t\\t<tr>\\n\\t\\t\\t<td width=\"40%\"><b>Domestic:</b></td>\\n\\t\\t\\t<td width=\"35%\" align=\"right\">&nbsp;<b>$158,671,368</b></td>\\n\\t\\t\\t\\t\\t</tr>\\n\\t\\t\\t</table>\\n\\t</div>\\n</div>\\n</td>\\n\\t\\t<td valign=\"top\" style=\"padding-left: 10px;\"><div class=\"mp_box\">\\n\\t<div class=\"mp_box_tab\">The Players</div>\\n\\t<div class=\"mp_box_content\">\\n\\t<table>\\n\\t\\t</td></tr><tr><td valign=\"top\" align=\"right\"><font size=\"2\"><a href=\"/people/?view=Director&p=.htm\">Director:</font></a></td><td><font size=\"2\">Robert Wise</font></td></tr><tr><td valign=\"top\" align=\"right\"><font size=\"2\"><a href=\"/people/?view=Writer&p=.htm\">Writers:</font></a></td><td><font size=\"2\">Ernest Lehman <font size=\"2\">(screenplay)</font><br>Howard Lindsay <font size=\"2\">(book of stage musical)</font><br>Russel Crouse <font size=\"2\">(\")</font></font></td></tr><tr><td valign=\"top\" align=\"right\"><font size=\"2\"><a href=\"/people/?view=Actor&p=.htm\">Actors:</font></a></td><td><font size=\"2\"><a href=\"/people/chart/?view=Actor&id=julieandrews.htm\">Julie Andrews</a><br><a href=\"/people/chart/?view=Actor&id=christopherplummer.htm\">Christopher Plummer</a><br>Eleanor Parker<br>Richard Haydn<br>Peggy Wood<br>Charmian Carr<br>Heather Menzies<br>Nicholas Hammond<br>Duane Chase<br>Angela Cartwright<br>Debbie Turner<br>Kym Karath<br>Anna Lee<br>Portia Nelson<br>Ben Wright<br>Daniel Truhitte<br>Norma Varden<br>Gil Stuart<br>Marni Nixon<br>Evadne Baker<br>Doris Lloyd</font></td></tr><tr><td valign=\"top\" align=\"right\"><font size=\"2\"><a href=\"/people/?view=Producer&p=.htm\">Producers:</font></a></td><td><font size=\"2\">Robert Wise<br>Saul Chaplin <font size=\"2\">(associate)</font></font></td></tr><tr><td valign=\"top\" align=\"right\"><font size=\"2\"><a href=\"/people/?view=Cinematographer&p=.htm\"><font size=\"2\">Cinematographer</font>:</font></a></td><td><font size=\"2\">Ted McCord <font size=\"2\">(director of photography)</font></font></td></tr><tr><td valign=\"top\" align=\"right\"><font size=\"2\"><a href=\"/people/?view=Composer&p=.htm\">Composers:</font></a></td><td><font size=\"2\">Richard Rodgers <font size=\"2\">(music & additional lyrics)</font><br>Oscar Hammerstein II <font size=\"2\">(lyrics)</font></font></table></div></div></td>\\n\\t</tr></table>\\n\\t\\t<div class=\"mp_box\">\\n\\t<div class=\"mp_box_tab\">Charts</div>\\n\\t<div class=\"mp_box_content\">\\n\\n\\t\\t\\t\\t\\t<table border=\"0\" cellspacing=\"1\" cellpadding=\"5\" style=\"border-collapse: collapse\" width=\"100%\">\\n\\t\\t\\t\\t\\t\\t<tr><td bgcolor=><b>Chart</b></td>\\n\\t\\t\\t\\t\\t\\t\\t<td align=\"center\"><b>Rank</b></td>\\n\\t\\t\\t\\t\\t</tr>\\n\\n<tr bgcolor=\"#ffffff\"><td><font size=\"2\"><a href=\"/alltime/domestic.htm\">All Time Domestic</a></font></td>\\r\\n<td align=\"center\"><font size=\"2\">292</font></td>\\r\\n</tr>\\r\\n\\r\\n<tr bgcolor=\"#f4f4ff\"><td><font size=\"2\"><a href=\"/alltime/adjusted.htm\"><b>All Time Adjusted</b></a></font></td>\\r\\n<td align=\"center\"><font size=\"2\"><b>3</b></font></td>\\r\\n</tr>\\r\\n\\r\\n<tr bgcolor=\"#ffffff\"><td><font size=\"2\"><a href=\"/alltime/domestic/mpaa.htm?page=G&p=.htm\">Rated G</a></font></td>\\r\\n<td align=\"center\"><font size=\"2\">19</font></td>\\r\\n</tr>\\r\\n\\r\\n<tr bgcolor=\"#f4f4ff\"><td><font size=\"2\"><a href=\"/alltime/domestic/mpaa.htm?page=GPG&p=.htm\">Rated G and PG</a></font></td>\\r\\n<td align=\"center\"><font size=\"2\">103</font></td>\\r\\n</tr>\\r\\n\\r\\n<tr bgcolor=\"#ffffff\"><td><font size=\"2\"><a href=\"/grades/?page=usergrades&p=.htm\">BOM Users\\' Grades</a></font></td>\\r\\n<td align=\"center\"><font size=\"2\">73</font></td>\\r\\n</tr>\\r\\n\\r\\n<tr><td><b>Charts (Premier Pass Users Only)</b></td><td align=\"center\"><b>Rank</b></td></tr><tr bgcolor=\"#ffffff\"><td><font size=\"2\"><a href=\"/alltime/domestic.htm?page=1&asof=1982-01-01&p=.htm\">Highest All Time Rank (on January 1, 1982)</a></font></td>\\r\\n<td align=\"center\"><font size=\"2\">7</font></td>\\r\\n</tr>\\r\\n\\r\\n<tr bgcolor=\"#f4f4ff\"><td><font size=\"2\"><a href=\"/alltime/domestic/mpaa.htm?page=G&adjust_yr=2017&p=.htm\"><b>Rated G Adjusted</b></a></font></td>\\r\\n<td align=\"center\"><font size=\"2\"><b>2</b></font></td>\\r\\n</tr>\\r\\n\\r\\n<tr bgcolor=\"#ffffff\"><td><font size=\"2\"><a href=\"/alltime/domestic/mpaa.htm?page=GPG&adjust_yr=2017&p=.htm\"><b>Rated G and PG Adjusted</b></a></font></td>\\r\\n<td align=\"center\"><font size=\"2\"><b>3</b></font></td>\\r\\n</tr>\\r\\n\\r\\n</table></div></div>\\n\\t\\t</td>\\n\\t<td width=\"10px\">&nbsp;</td>\\n\\t<td valign=\"top\" width=\"434px\">\\n\\n<div class=\"mp_box\">\\n\\t\\t<div class=\"mp_box_tab\">Related Stories</div>\\n\\t\\t<div class=\"mp_box_content\"><table border=\"0\" cellspacing=\"0\" cellpadding=\"5\" width=\"100%\"><tr bgcolor=\"#ffff99\"><td><font size=\"2\"><a href=\"/features/?id=2218&p=.htm\">12/17/06 Christmas Quick Clicks: DVD Gift Guide 2006</font></td></tr></table></div></div>\\t<div class=\"mp_box\">\\n\\t\\t<div class=\"mp_box_tab\">Related Products</div>\\n\\t\\t<div class=\"mp_box_content\"><ul>\\n<li><a href=\"http://www.amazon.com/gp/product/B003VS0CX8?ie=UTF8&tag=boxofficemojo-20&linkCode=as2&camp=1789&creative=9325&creativeASIN=B003VS0CX8\">The Sound of Music (45th Anniversary Edition) (Two-Disc Blu-ray/DVD Combo)</a><img src=\"http://www.assoc-amazon.com/e/ir?t=boxofficemojo-20&l=as2&o=1&a=B003VS0CX8\" width=\"1\" height=\"1\" border=\"0\" alt=\"\" style=\"border:none !important; margin:0px !important;\" /></li>\\n<li><a href=\"http://www.amazon.com/gp/product/B000Y5JFNY?ie=UTF8&tag=boxofficemojo-20&linkCode=as2&camp=1789&creative=9325&creativeASIN=B000Y5JFNY\">The Sound of Music (Limited Edition Collector\\'s Set) [Blu-ray]</a><img src=\"http://www.assoc-amazon.com/e/ir?t=boxofficemojo-20&l=as2&o=1&a=B000Y5JFNY\" width=\"1\" height=\"1\" border=\"0\" alt=\"\" style=\"border:none !important; margin:0px !important;\" /></li>\\n<li><a href=\"http://www.amazon.com/gp/product/B0041T4LZQ?ie=UTF8&tag=boxofficemojo-20&linkCode=as2&camp=1789&creative=9325&creativeASIN=B0041T4LZQ\">Fox 75th Anniversary Collection</a><img src=\"http://www.assoc-amazon.com/e/ir?t=boxofficemojo-20&l=as2&o=1&a=B0041T4LZQ\" width=\"1\" height=\"1\" border=\"0\" alt=\"\" style=\"border:none !important; margin:0px !important;\" /></li>\\n<li><a href=\"http://www.amazon.com/gp/product/B00S58LCB0?ie=UTF8&tag=boxofficemojo-20&linkCode=as2&camp=1789&creative=9325&creativeASIN=B00S58LCB0\">The Sound of Music</a><img src=\"http://www.assoc-amazon.com/e/ir?t=boxofficemojo-20&l=as2&o=1&a=B00S58LCB0\" width=\"1\" height=\"1\" border=\"0\" alt=\"\" style=\"border:none !important; margin:0px !important;\" /></li>\\n<li><a href=\"http://www.amazon.com/gp/product/B00S58LFTE?ie=UTF8&tag=boxofficemojo-20&linkCode=as2&camp=1789&creative=9325&creativeASIN=B00S58LFTE\">The Sound of Music 50th Anniversary [Blu-ray]</a><img src=\"http://www.assoc-amazon.com/e/ir?t=boxofficemojo-20&l=as2&o=1&a=B00S58LFTE\" width=\"1\" height=\"1\" border=\"0\" alt=\"\" style=\"border:none !important; margin:0px !important;\" /></li>\\n<li><a href=\"http://www.amazon.com/gp/product/B000AP04OM?ie=UTF8&tag=boxofficemojo-20&linkCode=as2&camp=1789&creative=9325&creativeASIN=B000AP04OM\">The Sound of Music (40th Anniv. Edition)</a><img src=\"http://www.assoc-amazon.com/e/ir?t=boxofficemojo-20&l=as2&o=1&a=B000AP04OM\" width=\"1\" height=\"1\" border=\"0\" alt=\"\" style=\"border:none !important; margin:0px !important;\" /></li>\\n<li><a href=\"http://www.amazon.com/gp/product/B000HT3PGU?ie=UTF8&tag=boxofficemojo-20&linkCode=as2&camp=1789&creative=9325&creativeASIN=B000HT3PGU\">Rodgers and Hammerstein Box Set Collection</a><img src=\"http://www.assoc-amazon.com/e/ir?t=boxofficemojo-20&l=as2&o=1&a=B000HT3PGU\" width=\"1\" height=\"1\" border=\"0\" alt=\"\" style=\"border:none !important; margin:0px !important;\" /></li>\\n<li><a href=\"http://www.amazon.com/gp/product/B00003CXCS?ie=UTF8&tag=boxofficemojo-20&linkCode=as2&camp=1789&creative=9325&creativeASIN=B00003CXCS\">Five Star Collection</a><img src=\"http://www.assoc-amazon.com/e/ir?t=boxofficemojo-20&l=as2&o=1&a=B00003CXCS\" width=\"1\" height=\"1\" border=\"0\" alt=\"\" style=\"border:none !important; margin:0px !important;\" /></li>\\n<li><a href=\"http://www.amazon.com/gp/product/B00009V7OI?ie=UTF8&tag=boxofficemojo-20&linkCode=as2&camp=1789&creative=9325&creativeASIN=B00009V7OI\">Double Digipack</a><img src=\"http://www.assoc-amazon.com/e/ir?t=boxofficemojo-20&l=as2&o=1&a=B00009V7OI\" width=\"1\" height=\"1\" border=\"0\" alt=\"\" style=\"border:none !important; margin:0px !important;\" /></li>\\n<li><a href=\"http://www.amazon.com/gp/product/B00004WFNP?ie=UTF8&tag=boxofficemojo-20&linkCode=as2&camp=1789&creative=9325&creativeASIN=B00004WFNP\">Soundtrack</a><img src=\"http://www.assoc-amazon.com/e/ir?t=boxofficemojo-20&l=as2&o=1&a=B00004WFNP\" width=\"1\" height=\"1\" border=\"0\" alt=\"\" style=\"border:none !important; margin:0px !important;\" /></li>\\n</ul></div></div>\\t<OBJECT classid=\"clsid:D27CDB6E-AE6D-11cf-96B8-444553540000\" codebase=\"http://fpdownload.macromedia.com/get/flashplayer/current/swflash.cab\" id=\"Player_82160f42-9620-4d0a-b79a-18b1abd853fb\"  WIDTH=\"400px\" HEIGHT=\"150px\"> <PARAM NAME=\"movie\" VALUE=\"http://ws.amazon.com/widgets/q?ServiceVersion=20070822&MarketPlace=US&ID=V20070822%2FUS%2Fboxofficemojo-20%2F8010%2F82160f42-9620-4d0a-b79a-18b1abd853fb&Operation=GetDisplayTemplate\"><PARAM NAME=\"quality\" VALUE=\"high\"><PARAM NAME=\"bgcolor\" VALUE=\"#FFFFFF\"><PARAM NAME=\"allowscriptaccess\" VALUE=\"always\"><embed src=\"http://ws.amazon.com/widgets/q?ServiceVersion=20070822&MarketPlace=US&ID=V20070822%2FUS%2Fboxofficemojo-20%2F8010%2F82160f42-9620-4d0a-b79a-18b1abd853fb&Operation=GetDisplayTemplate\" id=\"Player_82160f42-9620-4d0a-b79a-18b1abd853fb\" quality=\"high\" bgcolor=\"#ffffff\" name=\"Player_82160f42-9620-4d0a-b79a-18b1abd853fb\" allowscriptaccess=\"always\"  type=\"application/x-shockwave-flash\" align=\"middle\" height=\"150px\" width=\"400px\"></embed></OBJECT> <NOSCRIPT><A HREF=\"http://ws.amazon.com/widgets/q?ServiceVersion=20070822&MarketPlace=US&ID=V20070822%2FUS%2Fboxofficemojo-20%2F8010%2F82160f42-9620-4d0a-b79a-18b1abd853fb&Operation=NoScript\">Amazon.com Widgets</A></NOSCRIPT>\\n\\t\\n</td>\\n</tr>\\n</table>\\n\\n<hr color=\"#000000\" size=\"1\"><br>\\n</td>\\n</tr>\\n</table>\\n\\n\\n</td></tr></table>\\n\\t</div>\\n\\t</div>\\n\\t<div id=\"hp_footer\">\\n\\t\\t<div style=\"padding-bottom: 20px;\">\\n\\n\\t\\t\\t<div style=\"margin: 0px 121px; vertical-align: top;\">\\n\\t\\t\\t\\t<div id=\"footer_links\">\\n\\t\\t\\t\\t\\t<ul class=\"footer_link_list\">\\n\\t\\t\\t\\t\\t\\t<li><strong>Latest Updates</strong></li>\\n\\t\\t\\t\\t\\t\\t<li><a href=\"/news/?ref=ft\">Movie News</a>\\n\\t\\t\\t\\t\\t\\t<li><a href=\"/daily/chart/?ref=ft\">Daily Chart</a></li>\\n\\t\\t\\t\\t\\t\\t<li><a href=\"/weekend/chart/?ref=ft\">Weekend Chart</a></li>\\n\\t\\t\\t\\t\\t\\t<li><a href=\"/alltime/?ref=ft\">All Time Charts</a></li>\\n\\t\\t\\t\\t\\t\\t<li><a href=\"/intl/?ref=ft\">International Charts</a></li>\\n\\t\\t\\t\\t\\t</ul>\\n\\t\\t\\t\\t\\t<!--\\n\\t\\t\\t\\t\\t<ul class=\"footer_link_list\">\\n\\t\\t\\t\\t\\t\\t<li><strong>Popular Movies</strong></li>\\n\\t\\t\\t\\t\\t\\t\\t\\t\\t\\t\\t</ul>\\n\\t\\t\\t\\t\\t-->\\n\\t\\t\\t\\t\\t<ul class=\"footer_link_list\">\\n\\t\\t\\t\\t\\t\\t<li><strong>Indices</strong></li>\\n\\t\\t\\t\\t\\t\\t<li><a href=\"/people/?ref=ft\">People</a></li>\\n\\t\\t\\t\\t\\t\\t<li><a href=\"/genres/?ref=ft\">Genres</a></li>\\n\\t\\t\\t\\t\\t\\t<li><a href=\"/franchises/?ref=ft\">Franchises</a></li>\\n\\t\\t\\t\\t\\t\\t<li><a href=\"/showdowns/?ref=ft\">Showdowns</a></li>\\n\\t\\t\\t\\t\\t</ul>\\n\\t\\t\\t\\t\\t<ul class=\"footer_link_list\">\\n\\t\\t\\t\\t\\t\\t<li><strong>Other</strong></li>\\n\\t\\t\\t\\t\\t\\t<li><a href=\"/about/?ref=ft\">About This Site</a></li>\\n\\t\\t\\t\\t\\t\\t<li><a href=\"/about/advertise.htm?ref=ft\">Advertising</a></li>\\n\\t\\t\\t\\t\\t</ul>\\n\\t\\t\\t\\t</div>\\n\\t\\t\\t\\t<div id=\"copyright\">\\n\\t\\t\\t\\t\\t<a href=\"/?ref=ft\"><img src=\"/img/misc/bom_logo1.png\" width=\"245\" height=\"56\" alt=\"Box Office Mojo\"></a><br>\\n\\t\\t\\t\\t\\t<p>An <a href=\"http://imdb.com/\"><img src=\"/img/misc/IMDbSm.png\" width=\"34\" height=\"16\" alt=\"IMDb\" valign=\"middle\"></a> company<br><br></p>\\n\\t\\t\\t\\t\\t<p>&copy; <a href=\"http://imdb.com/\">IMDb.com</a>, Inc. or its affiliates. All rights reserved. Box Office Mojo and IMDb are trademarks or registered trademarks of IMDb.com, Inc. or its affiliates. <a href=\"/about/termsofuse.htm\">Terms of Use</a> and <a href=\"/about/privacy.htm\">Privacy Policy</a> under which this service is provided to you.</p>\\n\\t\\t\\t\\t\\t</div>\\t\\t\\t\\n\\t\\t\\t\\t</div>\\n\\t\\t\\t\\t<div style=\"clear:both;\">\\n\\t\\t\\t\\t<div>\\n\\t\\t\\t\\t <script type=\"text/javascript\">\\n    googletag.cmd.push(function() {\\n        googletag.defineSlot(\"/4215/imdb2.bom.movie\", [[728, 90]], \"ad-slot-3\").addService(googletag.pubads().setTargeting(\"p\", \"b\"));\\n        googletag.pubads().enableSingleRequest();\\n        googletag.enableServices();\\n    });\\n    googletag.cmd.push(function() { googletag.display(\"ad-slot-3\"); });\\n</script></div>\\n\\n\\t\\t\\t\\t</div>\\n\\t</div>\\n</div>\\n\\n\\n\\n\\n\\n<!-- Page generated in 0.07 seconds | . -->\\n<script>\\n  var _comscore = _comscore || [];\\n  _comscore.push({ c1: \"2\", c2: \"6034961\" });\\n  (function() {\\n    var s = document.createElement(\"script\"), el = document.getElementsByTagName(\"script\")[0]; s.async = true;\\n    s.src = (document.location.protocol == \"https:\" ? \"https://sb\" : \"http://b\") + \".scorecardresearch.com/beacon.js\";\\n  el.parentNode.insertBefore(s, el);\\n  })();\\n</script>\\n<noscript>\\n    <img src=\"http://b.scorecardresearch.com/p?c1=2&c2=6034961&cv=2.0&cj=1\" />\\n</noscript>\\n</body>\\n</html>\\n'"
      ]
     },
     "execution_count": 3,
     "metadata": {},
     "output_type": "execute_result"
    }
   ],
   "source": [
    "# In the previous example, we were constructing urls manually\n",
    "url = 'http://www.boxofficemojo.com/movies/?id=soundofmusic.htm&adjust_yr=2017'\n",
    "requests.get(url)"
   ]
  },
  {
   "cell_type": "code",
   "execution_count": 10,
   "metadata": {
    "collapsed": true
   },
   "outputs": [],
   "source": [
    "# we could re-write the same request with params\n",
    "base_url = 'http://www.boxofficemojo.com/movies/'\n",
    "params = {\n",
    "    'id':'soundofmusic',\n",
    "    'adjust_yr': 2017\n",
    "}"
   ]
  },
  {
   "cell_type": "code",
   "execution_count": 11,
   "metadata": {},
   "outputs": [],
   "source": [
    "response = requests.get(url=base_url, headers = headers, params = params)"
   ]
  },
  {
   "cell_type": "markdown",
   "metadata": {},
   "source": [
    "You can get additional fake headers via the `fake_useragent` library  \n",
    "`#!pip install fake_useragent`"
   ]
  },
  {
   "cell_type": "markdown",
   "metadata": {},
   "source": [
    "## Catch errors with try-except, webpages are not always consistent"
   ]
  },
  {
   "cell_type": "code",
   "execution_count": null,
   "metadata": {
    "collapsed": true
   },
   "outputs": [],
   "source": [
    "try:\n",
    "    r = requests.get(url, timeout=10)\n",
    "except Exception as e:\n",
    "    print(e.message)"
   ]
  }
 ],
 "metadata": {
  "kernelspec": {
   "display_name": "Python [default]",
   "language": "python",
   "name": "python3"
  },
  "language_info": {
   "codemirror_mode": {
    "name": "ipython",
    "version": 3
   },
   "file_extension": ".py",
   "mimetype": "text/x-python",
   "name": "python",
   "nbconvert_exporter": "python",
   "pygments_lexer": "ipython3",
   "version": "3.6.0"
  }
 },
 "nbformat": 4,
 "nbformat_minor": 2
}

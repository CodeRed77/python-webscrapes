{
 "cells": [
  {
   "cell_type": "code",
   "execution_count": 1,
   "metadata": {
    "collapsed": true
   },
   "outputs": [],
   "source": [
    "# Python 2 & 3 Compatibility\n",
    "from __future__ import print_function, division"
   ]
  },
  {
   "cell_type": "markdown",
   "metadata": {},
   "source": [
    "# Chapter 2 - More BeautifulSoup - Getting all the information from one movie"
   ]
  },
  {
   "cell_type": "markdown",
   "metadata": {},
   "source": [
    "## Summmary of this notebook:\n",
    "TODO:\n",
    "We'll pick one movie from our list, the harry potter movie, and see how we can extract these following information:\n",
    "* domestic total gross -- adjusted\n",
    "* movie studio\n",
    "* movie genre\n",
    "* movie MPAA ratings\n",
    "* movie duration\n",
    "* movie release date\n"
   ]
  },
  {
   "cell_type": "code",
   "execution_count": 2,
   "metadata": {
    "collapsed": true
   },
   "outputs": [],
   "source": [
    "import pandas as pd\n",
    "import requests\n",
    "from bs4 import BeautifulSoup"
   ]
  },
  {
   "cell_type": "code",
   "execution_count": 3,
   "metadata": {
    "collapsed": true
   },
   "outputs": [],
   "source": [
    "base_url = 'http://www.boxofficemojo.com'\n",
    "movie_url = '/movies/?id=harrypotter.htm'"
   ]
  },
  {
   "cell_type": "code",
   "execution_count": null,
   "metadata": {
    "collapsed": true
   },
   "outputs": [],
   "source": [
    "response = requests.get(url)"
   ]
  },
  {
   "cell_type": "code",
   "execution_count": null,
   "metadata": {
    "collapsed": true
   },
   "outputs": [],
   "source": []
  },
  {
   "cell_type": "markdown",
   "metadata": {},
   "source": [
    "## `Soup.find()` refresher\n"
   ]
  },
  {
   "cell_type": "code",
   "execution_count": null,
   "metadata": {
    "collapsed": true
   },
   "outputs": [],
   "source": [
    "# soup.find_all() returns a list of all matches\n",
    "\n",
    "for link in soup.find_all('a'): \n",
    "    print(link)\n",
    "\n",
    "\n",
    "\n",
    "# Take a look at what the 'mp_box_content' classes\n",
    "# look like on the webpage, with Inspect Element.\n",
    "\n",
    "for element in soup.find_all(class_='mp_box_content'):\n",
    "    print(element, '\\n')\n",
    "\n",
    "# We can find all the columns in the first mp_box_content table\n",
    "# by \"chaining\" `find` and `find_all`.\n",
    "\n",
    "print(soup.find(class_='mp_box_content').find_all('td'))\n",
    "\n",
    "# To extract just the value of interest:\n",
    "\n",
    "soup.find(class_='mp_box_content').find_all('td')[1].text"
   ]
  },
  {
   "cell_type": "markdown",
   "metadata": {},
   "source": [
    "# Dont forget to adjust for 2017 terms\n"
   ]
  },
  {
   "cell_type": "code",
   "execution_count": null,
   "metadata": {
    "collapsed": true
   },
   "outputs": [],
   "source": []
  },
  {
   "cell_type": "code",
   "execution_count": null,
   "metadata": {
    "collapsed": true
   },
   "outputs": [],
   "source": [
    "### Consistency Web scraping is made simple by the consistent format of information among like pages of a website.\n",
    "### Items to scrape for each movie:\n",
    "movie title\n",
    "total domestic gross\n",
    "release date\n",
    "runtime\n",
    "rating\n",
    "\n",
    "# Movie Title\n",
    "\n",
    "print(soup.find('title'))\n",
    "\n",
    "title_string = soup.find('title').text\n",
    "print(title_string)\n",
    "\n",
    "print(title_string.split('('))\n",
    "\n",
    "title = title_string.split('(')[0].strip()\n",
    "print(title)"
   ]
  }
 ],
 "metadata": {
  "kernelspec": {
   "display_name": "Python [conda env:py3]",
   "language": "python",
   "name": "conda-env-py3-py"
  },
  "language_info": {
   "codemirror_mode": {
    "name": "ipython",
    "version": 3
   },
   "file_extension": ".py",
   "mimetype": "text/x-python",
   "name": "python",
   "nbconvert_exporter": "python",
   "pygments_lexer": "ipython3",
   "version": "3.6.0"
  }
 },
 "nbformat": 4,
 "nbformat_minor": 2
}

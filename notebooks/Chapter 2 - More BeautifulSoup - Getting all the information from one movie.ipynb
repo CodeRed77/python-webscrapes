{
 "cells": [
  {
   "cell_type": "code",
   "execution_count": 1,
   "metadata": {
    "collapsed": true
   },
   "outputs": [],
   "source": [
    "# Python 2 & 3 Compatibility\n",
    "from __future__ import print_function, division"
   ]
  },
  {
   "cell_type": "markdown",
   "metadata": {},
   "source": [
    "# Chapter 2 - More BeautifulSoup - Getting all the information from one movie"
   ]
  },
  {
   "cell_type": "markdown",
   "metadata": {},
   "source": [
    "## Summmary of this notebook:\n",
    "TODO:\n",
    "We'll pick one movie from our list, the harry potter movie, and see how we can extract these following information:\n",
    "* movie title\n",
    "* domestic total gross -- adjusted\n",
    "* movie production budget\n",
    "* movie genre\n",
    "* movie MPAA ratings\n",
    "* movie runtime\n",
    "* movie release date\n",
    "\n",
    "### Consistency Web scraping is made simple by the consistent format of information among like pages of a website.\n",
    "\n"
   ]
  },
  {
   "cell_type": "code",
   "execution_count": 2,
   "metadata": {
    "collapsed": true
   },
   "outputs": [],
   "source": [
    "import pandas as pd\n",
    "import requests\n",
    "from bs4 import BeautifulSoup"
   ]
  },
  {
   "cell_type": "code",
   "execution_count": 3,
   "metadata": {},
   "outputs": [
    {
     "name": "stdout",
     "output_type": "stream",
     "text": [
      "/movies/?id=gonewiththewind.htm\r\n",
      "/movies/?id=starwars4.htm\r\n",
      "/movies/?id=soundofmusic.htm\r\n",
      "/movies/?id=et.htm\r\n",
      "/movies/?id=titanic.htm\r\n"
     ]
    }
   ],
   "source": [
    "# Let's see what our top 5 movies are\n",
    "!head -n5 ../data/movie_urls.txt"
   ]
  },
  {
   "cell_type": "code",
   "execution_count": 4,
   "metadata": {
    "collapsed": true
   },
   "outputs": [],
   "source": [
    "base_url = 'http://www.boxofficemojo.com'\n",
    "movie_url = '/movies/?id=soundofmusic.htm'"
   ]
  },
  {
   "cell_type": "code",
   "execution_count": 5,
   "metadata": {
    "collapsed": true
   },
   "outputs": [],
   "source": [
    "response = requests.get(base_url + movie_url)"
   ]
  },
  {
   "cell_type": "code",
   "execution_count": 6,
   "metadata": {
    "collapsed": true
   },
   "outputs": [],
   "source": [
    "# this is another way to check if response status_code is 200\n",
    "if response.ok:\n",
    "    soup = BeautifulSoup(response.text,'html.parser')"
   ]
  },
  {
   "cell_type": "markdown",
   "metadata": {},
   "source": [
    "## Let's go to the url and take a look at the page. \n",
    "## Something looks a little weird here: the movie only made $ 158 million.        "
   ]
  },
  {
   "cell_type": "markdown",
   "metadata": {},
   "source": [
    "This is NOT the adjusted gross. After we go to the individual page, the link took us to the default \"actual gross\" values. How do we adjust to year 2017? What do you discover in the url?"
   ]
  },
  {
   "cell_type": "code",
   "execution_count": 7,
   "metadata": {
    "collapsed": true
   },
   "outputs": [],
   "source": [
    "# Let's try again to get the correct adjusted values:\n",
    "response = requests.get(base_url + movie_url + '&adjust_yr=2017')\n",
    "if response.ok:\n",
    "    soup = BeautifulSoup(response.text,'html.parser')"
   ]
  },
  {
   "cell_type": "markdown",
   "metadata": {},
   "source": [
    "# Soup methods table"
   ]
  },
  {
   "cell_type": "markdown",
   "metadata": {},
   "source": [
    "## `Soup.find()` refresher\n"
   ]
  },
  {
   "cell_type": "code",
   "execution_count": 24,
   "metadata": {},
   "outputs": [
    {
     "data": {
      "text/plain": [
       "<title>The Sound of Music (1965) - Box Office Mojo</title>"
      ]
     },
     "execution_count": 24,
     "metadata": {},
     "output_type": "execute_result"
    }
   ],
   "source": [
    "# Movie Title\n",
    "soup.find('title')"
   ]
  },
  {
   "cell_type": "code",
   "execution_count": 29,
   "metadata": {},
   "outputs": [
    {
     "data": {
      "text/plain": [
       "'The Sound of Music'"
      ]
     },
     "execution_count": 29,
     "metadata": {},
     "output_type": "execute_result"
    }
   ],
   "source": [
    "(\n",
    "    soup.find('title')\n",
    "    .string \n",
    "    .split('(')[0]  # take the substring before the left paran\n",
    "    .strip()        # strip off the trailing spaces\n",
    ")\n"
   ]
  },
  {
   "cell_type": "code",
   "execution_count": 30,
   "metadata": {
    "collapsed": true
   },
   "outputs": [],
   "source": [
    "movie_title = _"
   ]
  },
  {
   "cell_type": "code",
   "execution_count": 35,
   "metadata": {},
   "outputs": [
    {
     "name": "stdout",
     "output_type": "stream",
     "text": [
      "None\n"
     ]
    }
   ],
   "source": [
    "# Adjusted Domestic Total Gross\n",
    "## text does an exact match search!\n",
    "print(soup.find(string=\"Domestic Total\"))"
   ]
  },
  {
   "cell_type": "code",
   "execution_count": 37,
   "metadata": {},
   "outputs": [
    {
     "name": "stdout",
     "output_type": "stream",
     "text": [
      "Domestic Total Adj. Gross: \n"
     ]
    }
   ],
   "source": [
    "# You have to find a perfect match in order for it to work:\n",
    "print(soup.find(text=\"Domestic Total Adj. Gross: \"))"
   ]
  },
  {
   "cell_type": "markdown",
   "metadata": {},
   "source": [
    "## You could also use regular expressions\n",
    "![regular expressions](http://imgs.xkcd.com/comics/regular_expressions.png)\n",
    "\n",
    "[Handy Tool for making RegEx](http://pythex.org/)"
   ]
  },
  {
   "cell_type": "code",
   "execution_count": 8,
   "metadata": {},
   "outputs": [
    {
     "data": {
      "text/plain": [
       "'Domestic Total Adj. Gross: '"
      ]
     },
     "execution_count": 8,
     "metadata": {},
     "output_type": "execute_result"
    }
   ],
   "source": [
    "import re\n",
    "soup.find(text=re.compile('Domestic Total'))"
   ]
  },
  {
   "cell_type": "code",
   "execution_count": 41,
   "metadata": {},
   "outputs": [
    {
     "data": {
      "text/html": [
       "<td align=\"center\" colspan=\"2\">\n",
       "    <font size=\"4\">\n",
       "        Domestic Total Adj. Gross: \n",
       "        <b>$580,914,300</b>\n",
       "    </font>\n",
       "</td>"
      ],
      "text/plain": [
       "<IPython.core.display.HTML object>"
      ]
     },
     "metadata": {},
     "output_type": "display_data"
    }
   ],
   "source": [
    "%%html\n",
    "<td align=\"center\" colspan=\"2\">\n",
    "    <font size=\"4\">\n",
    "        Domestic Total Adj. Gross: \n",
    "        <b>$580,914,300</b>\n",
    "    </font>\n",
    "</td>"
   ]
  },
  {
   "cell_type": "code",
   "execution_count": 69,
   "metadata": {},
   "outputs": [
    {
     "data": {
      "text/plain": [
       "<font size=\"4\">Domestic Total Adj. Gross: <b>$1,258,951,900</b></font>"
      ]
     },
     "execution_count": 69,
     "metadata": {},
     "output_type": "execute_result"
    }
   ],
   "source": [
    "soup.find(text=re.compile('Domestic Total')).findParent()"
   ]
  },
  {
   "cell_type": "code",
   "execution_count": 64,
   "metadata": {},
   "outputs": [
    {
     "data": {
      "text/plain": [
       "<b>$1,258,951,900</b>"
      ]
     },
     "execution_count": 64,
     "metadata": {},
     "output_type": "execute_result"
    }
   ],
   "source": [
    "(\n",
    "soup.find(text=re.compile('Domestic Total'))\n",
    ".findNextSibling()\n",
    ")"
   ]
  },
  {
   "cell_type": "code",
   "execution_count": null,
   "metadata": {
    "collapsed": true
   },
   "outputs": [],
   "source": [
    "# you could also use \n",
    "# soup.find(text=re.compile('Domestic Total')).parent\n",
    "# and\n",
    "# soup.find(text=re.compile('Domestic Total')).next_sibling\n",
    "# to achieve the same effect"
   ]
  },
  {
   "cell_type": "code",
   "execution_count": null,
   "metadata": {
    "collapsed": true
   },
   "outputs": [],
   "source": [
    "# Ok, now we have our domestic total gross adjusted. But it's a string, lets re-format it and convert it to a number"
   ]
  },
  {
   "cell_type": "code",
   "execution_count": 66,
   "metadata": {
    "collapsed": true
   },
   "outputs": [],
   "source": [
    "dtg  = (\n",
    "soup.find(text=re.compile('Domestic Total'))\n",
    ".findNextSibling()\n",
    ".text\n",
    ")"
   ]
  },
  {
   "cell_type": "code",
   "execution_count": 67,
   "metadata": {},
   "outputs": [
    {
     "name": "stdout",
     "output_type": "stream",
     "text": [
      "1258951900\n"
     ]
    }
   ],
   "source": [
    "dtg = dtg.replace('$','').replace(',','')\n",
    "domestic_total_gross = int(dtg)\n",
    "print(domestic_total_gross)"
   ]
  },
  {
   "cell_type": "markdown",
   "metadata": {},
   "source": [
    "# Exercise: "
   ]
  },
  {
   "cell_type": "code",
   "execution_count": null,
   "metadata": {
    "collapsed": true
   },
   "outputs": [],
   "source": [
    "# Can you also find the unadjusted actual domestic total on this page?"
   ]
  },
  {
   "cell_type": "code",
   "execution_count": 42,
   "metadata": {},
   "outputs": [],
   "source": [
    "actual_dtg = (\n",
    "soup.find(text=re.compile('Domestic:'))\n",
    ".findParent()\n",
    ".findParent()\n",
    ".findNextSibling()\n",
    ".find('b').text\n",
    ")"
   ]
  },
  {
   "cell_type": "code",
   "execution_count": 48,
   "metadata": {},
   "outputs": [
    {
     "name": "stdout",
     "output_type": "stream",
     "text": [
      "158671368\n"
     ]
    }
   ],
   "source": [
    "actual_dtg = int(actual_dtg.replace('$','').replace(',',''))\n",
    "print(actual_dtg)"
   ]
  },
  {
   "cell_type": "markdown",
   "metadata": {},
   "source": [
    "### Since we are going to re-use some of the soup.find code, let's wrap them in functions"
   ]
  },
  {
   "cell_type": "code",
   "execution_count": 9,
   "metadata": {
    "collapsed": true
   },
   "outputs": [],
   "source": [
    "### We can actually do several of these using the text matching method, so let's make a function for that\n",
    "\n",
    "def get_movie_value(soup, field_name):\n",
    "    '''Grab a value from boxofficemojo HTML\n",
    "    \n",
    "    Takes a string attribute of a movie on the page and\n",
    "    returns the string in the next sibling object\n",
    "    (the value for that attribute)\n",
    "    or None if nothing is found.\n",
    "    '''\n",
    "    obj = soup.find(text=re.compile(field_name))\n",
    "    if not obj: \n",
    "        return None\n",
    "    # this works for most of the values\n",
    "    next_sibling = obj.findNextSibling()\n",
    "    if next_sibling:\n",
    "        return next_sibling.text \n",
    "    else:\n",
    "        return None"
   ]
  },
  {
   "cell_type": "code",
   "execution_count": 12,
   "metadata": {},
   "outputs": [
    {
     "name": "stdout",
     "output_type": "stream",
     "text": [
      "$1,258,951,900\n",
      "$8.2 million\n",
      "2 hrs. 54 min.\n",
      "G\n",
      "March 2, 1965\n"
     ]
    }
   ],
   "source": [
    "# domestic total gross\n",
    "dtg = get_movie_value(soup,'Domestic Total')\n",
    "print(dtg)\n",
    "\n",
    "# production budget\n",
    "budget = get_movie_value(soup, 'Production Budget')\n",
    "print(budget)\n",
    "\n",
    "# runtime\n",
    "runtime = get_movie_value(soup,'Runtime')\n",
    "print(runtime)\n",
    "\n",
    "# rating\n",
    "rating = get_movie_value(soup,'MPAA Rating')\n",
    "print(rating)\n",
    "\n",
    "release_date = get_movie_value(soup,'Release Date')\n",
    "print(release_date)\n"
   ]
  },
  {
   "cell_type": "code",
   "execution_count": 26,
   "metadata": {
    "collapsed": true
   },
   "outputs": [],
   "source": [
    "### We need a few helper methods to parse the strings we've gotten\n",
    "\n",
    "import dateutil.parser\n",
    "\n",
    "def to_date(datestring):\n",
    "    date = dateutil.parser.parse(datestring)\n",
    "    return date\n",
    "\n",
    "def money_to_int(moneystring):\n",
    "    moneystring = moneystring.replace('$', '').replace(',', '')\n",
    "    return int(moneystring)\n",
    "\n",
    "def budget_to_num(budgetstring):\n",
    "    budgetstring = budgetstring.replace('$', '').split()[0]\n",
    "    return float(budgetstring) * 1.0e6\n",
    "\n",
    "def runtime_to_minutes(runtimestring):\n",
    "    runtime = runtimestring.split()\n",
    "    try:\n",
    "        minutes = int(runtime[0])*60 + int(runtime[2])\n",
    "        return minutes\n",
    "    except:\n",
    "        return None"
   ]
  },
  {
   "cell_type": "code",
   "execution_count": 27,
   "metadata": {},
   "outputs": [],
   "source": [
    "# Let's get these again and format them all in one swoop\n",
    "\n",
    "from pprint import pprint\n",
    "\n",
    "raw_release_date = get_movie_value(soup,'Release Date')\n",
    "release_date = to_date(raw_release_date)\n",
    "\n",
    "raw_domestic_total_gross = get_movie_value(soup,'Domestic Total')\n",
    "domestic_total_gross = money_to_int(raw_domestic_total_gross)\n",
    "\n",
    "raw_production_budget = get_movie_value(soup,'Production Budget')\n",
    "budget = budget_to_num(raw_production_budget)\n",
    "\n",
    "raw_runtime = get_movie_value(soup,'Runtime')\n",
    "runtime = runtime_to_minutes(raw_runtime)"
   ]
  },
  {
   "cell_type": "code",
   "execution_count": 49,
   "metadata": {},
   "outputs": [
    {
     "name": "stdout",
     "output_type": "stream",
     "text": [
      "[{'actual dtg': 158671368,\n",
      "  'adjusted domestic total gross': 1258951900,\n",
      "  'budget': 8199999.999999999,\n",
      "  'movie title': 'The Sound of Music',\n",
      "  'rating': 'G',\n",
      "  'release date': datetime.datetime(1965, 3, 2, 0, 0),\n",
      "  'runtime (mins)': 174}]\n"
     ]
    }
   ],
   "source": [
    "headers = ['movie title', 'adjusted domestic total gross', 'actual dtg',\n",
    "           'release date', 'runtime (mins)', 'rating', 'budget']\n",
    "\n",
    "movie_data = []\n",
    "movie_dict = dict(zip(headers, [movie_title,\n",
    "                                domestic_total_gross,\n",
    "                                actual_dtg,\n",
    "                                release_date,\n",
    "                                runtime,\n",
    "                                rating,\n",
    "                                budget]))\n",
    "movie_data.append(movie_dict)\n",
    "\n",
    "pprint(movie_data)\n"
   ]
  },
  {
   "cell_type": "code",
   "execution_count": null,
   "metadata": {
    "collapsed": true
   },
   "outputs": [],
   "source": []
  },
  {
   "cell_type": "markdown",
   "metadata": {
    "collapsed": true
   },
   "source": [
    "# Great! Now we scraped all the info for this movie. We can move on scrape all the movies!"
   ]
  },
  {
   "cell_type": "code",
   "execution_count": null,
   "metadata": {
    "collapsed": true
   },
   "outputs": [],
   "source": []
  }
 ],
 "metadata": {
  "kernelspec": {
   "display_name": "Python [conda env:py3]",
   "language": "python",
   "name": "conda-env-py3-py"
  },
  "language_info": {
   "codemirror_mode": {
    "name": "ipython",
    "version": 3
   },
   "file_extension": ".py",
   "mimetype": "text/x-python",
   "name": "python",
   "nbconvert_exporter": "python",
   "pygments_lexer": "ipython3",
   "version": "3.6.0"
  }
 },
 "nbformat": 4,
 "nbformat_minor": 2
}
